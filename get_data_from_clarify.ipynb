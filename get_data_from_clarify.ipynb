{
 "cells": [
  {
   "cell_type": "code",
   "execution_count": 1,
   "metadata": {},
   "outputs": [],
   "source": [
    "import orchest\n",
    "from pyclarify import ClarifyClient\n",
    "import pandas as pd\n",
    "import time"
   ]
  },
  {
   "cell_type": "code",
   "execution_count": 2,
   "metadata": {},
   "outputs": [],
   "source": [
    "clarify_client = ClarifyClient(\"clarify-credentials.json\")"
   ]
  },
  {
   "cell_type": "code",
   "execution_count": 3,
   "metadata": {},
   "outputs": [
    {
     "name": "stdout",
     "output_type": "stream",
     "text": [
      "fetching items with index 0 to 50\n",
      "fetching items with index 50 to 100\n",
      "fetching items with index 100 to 150\n",
      "fetching items with index 150 to 200\n",
      "fetching items with index 200 to 250\n",
      "fetching items with index 250 to 300\n",
      "fetching items with index 300 to 350\n",
      "fetching items with index 350 to 400\n",
      "fetching items with index 400 to 450\n",
      "fetching items with index 450 to 500\n",
      "fetching items with index 500 to 550\n",
      "fetching items with index 550 to 600\n"
     ]
    }
   ],
   "source": [
    "data_list = []\n",
    "number_of_items_to_fetch = 566\n",
    "num_per_fetch = 50\n",
    "\n",
    "for i in range(0, number_of_items_to_fetch, num_per_fetch):\n",
    "    \n",
    "    print(f'fetching item {i} to {i + num_per_fetch - 1}')\n",
    "    \n",
    "    data_not_fetched = True\n",
    "    \n",
    "    while data_not_fetched:\n",
    "\n",
    "        response = clarify_client.select_items_data(\n",
    "            limit=num_per_fetch,\n",
    "            skip = i,\n",
    "            not_before = \"2018-01-01T00:00:00Z\",\n",
    "            before = \"2021-01-02T00:00:00Z\"\n",
    "        )\n",
    "\n",
    "        if response.result == None:\n",
    "            wait_time_after_fail = 10\n",
    "            print(f'failed, waiting for {wait_time_after_fail} seconds and then trying again')\n",
    "            time.sleep(wait_time_after_fail)\n",
    "        else:\n",
    "            data_list.append(response.result.data)\n",
    "            data_not_fetched = False\n",
    "\n",
    "df_list = [data.to_pandas() for data in data_list]\n",
    "data_df = pd.concat(df_list, axis=1, ignore_index=False)"
   ]
  },
  {
   "cell_type": "code",
   "execution_count": 4,
   "metadata": {},
   "outputs": [],
   "source": [
    "response = clarify_client.select_items_metadata(\n",
    "    ids=list(data_df.columns),\n",
    "    limit=1000\n",
    ")\n",
    "signal_infos_dict = response.result.items"
   ]
  },
  {
   "cell_type": "code",
   "execution_count": 5,
   "metadata": {},
   "outputs": [],
   "source": [
    "sensor_types_to_add = ['Fastkraft', 'Fjernvarme', 'Varme', 'Elkjel', 'Kjøling']\n",
    "\n",
    "item_id_dict = {}\n",
    "for item_id, signal_info in signal_infos_dict.items():\n",
    "    building_name = signal_info.labels.get('building', [None])[0]\n",
    "    sensor_type = signal_info.labels.get('type', [None])[0]\n",
    "\n",
    "    # if item does not have building name or sensor type as label continue to next item\n",
    "    if building_name is None or sensor_type is None:\n",
    "        continue\n",
    "\n",
    "    # if sensor type is not in list of interseting sensor types continue to next sensor\n",
    "    if sensor_type not in sensor_types_to_add:\n",
    "        continue\n",
    "\n",
    "    # if building is not in item_id_dict add empty dict\n",
    "    if building_name not in item_id_dict:\n",
    "        item_id_dict[building_name] = {}\n",
    "\n",
    "    # if sensor type not in dict for build add empty list\n",
    "    if sensor_type not in item_id_dict[building_name]:\n",
    "        item_id_dict[building_name][sensor_type] = []\n",
    "\n",
    "    item_id_dict[building_name][sensor_type].append(item_id)"
   ]
  },
  {
   "cell_type": "code",
   "execution_count": 6,
   "metadata": {},
   "outputs": [],
   "source": [
    "building_names = list(item_id_dict.keys())\n",
    "\n",
    "building_hourly_energy_consumption_by_sensor_type_dfs = {}\n",
    "for building_name, sensor_type_item_id_dict in item_id_dict.items():\n",
    "    d = {}\n",
    "    for sensor_type, item_id_list in sensor_type_item_id_dict.items():\n",
    "        d[sensor_type] = data_df[item_id_list].sum(axis=1)\n",
    "    building_hourly_energy_consumption_by_sensor_type_dfs[building_name] = pd.DataFrame(d)\n",
    "    \n",
    "    # add total column to dataframe\n",
    "    building_hourly_energy_consumption_by_sensor_type_dfs[building_name]['Totalt'] = building_hourly_energy_consumption_by_sensor_type_dfs[building_name].sum(axis=1)\n",
    "\n",
    "\n",
    "building_daily_energy_consumption_by_sensor_type_dfs = {}\n",
    "building_weekly_energy_consumption_by_sensor_type_dfs = {}\n",
    "for building_name, df in building_hourly_energy_consumption_by_sensor_type_dfs.items():\n",
    "    building_daily_energy_consumption_by_sensor_type_dfs[building_name] = df.resample('D').sum()\n",
    "    building_weekly_energy_consumption_by_sensor_type_dfs[building_name] = df.resample('W-MON').sum()"
   ]
  },
  {
   "cell_type": "code",
   "execution_count": null,
   "metadata": {},
   "outputs": [],
   "source": []
  },
  {
   "cell_type": "code",
   "execution_count": 7,
   "metadata": {},
   "outputs": [],
   "source": [
    "# building_energy_consumption_by_sensor_type_dfs[building_names[1]]"
   ]
  },
  {
   "cell_type": "code",
   "execution_count": 8,
   "metadata": {},
   "outputs": [
    {
     "name": "stdout",
     "output_type": "stream",
     "text": [
      "outputting energy cosumption data fetched from clarify...\n"
     ]
    },
    {
     "ename": "StepUUIDResolveError",
     "evalue": "Failed to determine where to output data to.",
     "output_type": "error",
     "traceback": [
      "\u001b[0;31m---------------------------------------------------------------------------\u001b[0m",
      "\u001b[0;31mStepUUIDResolveError\u001b[0m                      Traceback (most recent call last)",
      "File \u001b[0;32m/orchest/orchest-sdk/python/orchest/transfer.py:671\u001b[0m, in \u001b[0;36moutput_to_memory\u001b[0;34m(data, name, disk_fallback)\u001b[0m\n\u001b[1;32m    670\u001b[0m \u001b[38;5;28;01mtry\u001b[39;00m:\n\u001b[0;32m--> 671\u001b[0m     step_uuid \u001b[38;5;241m=\u001b[39m \u001b[43mget_step_uuid\u001b[49m\u001b[43m(\u001b[49m\u001b[43mpipeline\u001b[49m\u001b[43m)\u001b[49m\n\u001b[1;32m    672\u001b[0m \u001b[38;5;28;01mexcept\u001b[39;00m error\u001b[38;5;241m.\u001b[39mStepUUIDResolveError:\n",
      "File \u001b[0;32m/orchest/orchest-sdk/python/orchest/utils.py:76\u001b[0m, in \u001b[0;36mget_step_uuid\u001b[0;34m(pipeline)\u001b[0m\n\u001b[1;32m     74\u001b[0m         \u001b[38;5;28;01mreturn\u001b[39;00m step\u001b[38;5;241m.\u001b[39mproperties[\u001b[38;5;124m\"\u001b[39m\u001b[38;5;124muuid\u001b[39m\u001b[38;5;124m\"\u001b[39m]\n\u001b[0;32m---> 76\u001b[0m \u001b[38;5;28;01mraise\u001b[39;00m StepUUIDResolveError(\u001b[38;5;124mf\u001b[39m\u001b[38;5;124m'\u001b[39m\u001b[38;5;124mNo step with \u001b[39m\u001b[38;5;124m\"\u001b[39m\u001b[38;5;124mnotebook_path\u001b[39m\u001b[38;5;124m\"\u001b[39m\u001b[38;5;124m: \u001b[39m\u001b[38;5;132;01m{\u001b[39;00mnotebook_path\u001b[38;5;132;01m}\u001b[39;00m\u001b[38;5;124m.\u001b[39m\u001b[38;5;124m'\u001b[39m)\n",
      "\u001b[0;31mStepUUIDResolveError\u001b[0m: No step with \"notebook_path\": get_data_from_clarify.ipynb.",
      "\nDuring handling of the above exception, another exception occurred:\n",
      "\u001b[0;31mStepUUIDResolveError\u001b[0m                      Traceback (most recent call last)",
      "Input \u001b[0;32mIn [8]\u001b[0m, in \u001b[0;36m<cell line: 2>\u001b[0;34m()\u001b[0m\n\u001b[1;32m      1\u001b[0m \u001b[38;5;28mprint\u001b[39m(\u001b[38;5;124m'\u001b[39m\u001b[38;5;124moutputting energy cosumption data fetched from clarify...\u001b[39m\u001b[38;5;124m'\u001b[39m)\n\u001b[0;32m----> 2\u001b[0m \u001b[43morchest\u001b[49m\u001b[38;5;241;43m.\u001b[39;49m\u001b[43moutput\u001b[49m\u001b[43m(\u001b[49m\u001b[43mbuilding_hourly_energy_consumption_by_sensor_type_dfs\u001b[49m\u001b[43m,\u001b[49m\u001b[43m \u001b[49m\u001b[43mname\u001b[49m\u001b[38;5;241;43m=\u001b[39;49m\u001b[38;5;124;43m'\u001b[39;49m\u001b[38;5;124;43mbuilding_hourly_energy_consumption_by_sensor_type_dfs\u001b[39;49m\u001b[38;5;124;43m'\u001b[39;49m\u001b[43m)\u001b[49m\n\u001b[1;32m      3\u001b[0m orchest\u001b[38;5;241m.\u001b[39moutput(building_daily_energy_consumption_by_sensor_type_dfs, name\u001b[38;5;241m=\u001b[39m\u001b[38;5;124m'\u001b[39m\u001b[38;5;124mbuilding_daily_energy_consumption_by_sensor_type_dfs\u001b[39m\u001b[38;5;124m'\u001b[39m)\n\u001b[1;32m      4\u001b[0m orchest\u001b[38;5;241m.\u001b[39moutput(building_weekly_energy_consumption_by_sensor_type_dfs, name\u001b[38;5;241m=\u001b[39m\u001b[38;5;124m'\u001b[39m\u001b[38;5;124mbuilding_weekly_energy_consumption_by_sensor_type_dfs\u001b[39m\u001b[38;5;124m'\u001b[39m)\n",
      "File \u001b[0;32m/orchest/orchest-sdk/python/orchest/transfer.py:1169\u001b[0m, in \u001b[0;36moutput\u001b[0;34m(data, name)\u001b[0m\n\u001b[1;32m   1166\u001b[0m \u001b[38;5;28;01mexcept\u001b[39;00m (\u001b[38;5;167;01mValueError\u001b[39;00m, \u001b[38;5;167;01mTypeError\u001b[39;00m) \u001b[38;5;28;01mas\u001b[39;00m e:\n\u001b[1;32m   1167\u001b[0m     \u001b[38;5;28;01mraise\u001b[39;00m error\u001b[38;5;241m.\u001b[39mDataInvalidNameError(e)\n\u001b[0;32m-> 1169\u001b[0m \u001b[38;5;28;01mreturn\u001b[39;00m \u001b[43moutput_to_memory\u001b[49m\u001b[43m(\u001b[49m\n\u001b[1;32m   1170\u001b[0m \u001b[43m    \u001b[49m\u001b[43mdata\u001b[49m\u001b[43m,\u001b[49m\n\u001b[1;32m   1171\u001b[0m \u001b[43m    \u001b[49m\u001b[43mname\u001b[49m\u001b[43m,\u001b[49m\n\u001b[1;32m   1172\u001b[0m \u001b[43m    \u001b[49m\u001b[43mdisk_fallback\u001b[49m\u001b[38;5;241;43m=\u001b[39;49m\u001b[38;5;28;43;01mTrue\u001b[39;49;00m\u001b[43m,\u001b[49m\n\u001b[1;32m   1173\u001b[0m \u001b[43m\u001b[49m\u001b[43m)\u001b[49m\n",
      "File \u001b[0;32m/orchest/orchest-sdk/python/orchest/transfer.py:673\u001b[0m, in \u001b[0;36moutput_to_memory\u001b[0;34m(data, name, disk_fallback)\u001b[0m\n\u001b[1;32m    671\u001b[0m     step_uuid \u001b[38;5;241m=\u001b[39m get_step_uuid(pipeline)\n\u001b[1;32m    672\u001b[0m \u001b[38;5;28;01mexcept\u001b[39;00m error\u001b[38;5;241m.\u001b[39mStepUUIDResolveError:\n\u001b[0;32m--> 673\u001b[0m     \u001b[38;5;28;01mraise\u001b[39;00m error\u001b[38;5;241m.\u001b[39mStepUUIDResolveError(\u001b[38;5;124m\"\u001b[39m\u001b[38;5;124mFailed to determine where to output data to.\u001b[39m\u001b[38;5;124m\"\u001b[39m)\n\u001b[1;32m    675\u001b[0m \u001b[38;5;66;03m# Serialize the object and collect the serialization metadata.\u001b[39;00m\n\u001b[1;32m    676\u001b[0m obj, serialization \u001b[38;5;241m=\u001b[39m _serialize(data)\n",
      "\u001b[0;31mStepUUIDResolveError\u001b[0m: Failed to determine where to output data to."
     ]
    }
   ],
   "source": [
    "print('outputting energy cosumption data fetched from clarify...')\n",
    "orchest.output(building_hourly_energy_consumption_by_sensor_type_dfs, name='building_hourly_energy_consumption_by_sensor_type_dfs')\n",
    "orchest.output(building_daily_energy_consumption_by_sensor_type_dfs, name='building_daily_energy_consumption_by_sensor_type_dfs')\n",
    "orchest.output(building_weekly_energy_consumption_by_sensor_type_dfs, name='building_weekly_energy_consumption_by_sensor_type_dfs')\n",
    "print('success')"
   ]
  },
  {
   "cell_type": "code",
   "execution_count": null,
   "metadata": {},
   "outputs": [],
   "source": []
  }
 ],
 "metadata": {
  "kernelspec": {
   "display_name": "Python 3",
   "language": "python",
   "name": "orchest-kernel-8845bcfa-6937-4041-b924-3b6437bd77c4"
  },
  "language_info": {
   "codemirror_mode": {
    "name": "ipython",
    "version": 3
   },
   "file_extension": ".py",
   "mimetype": "text/x-python",
   "name": "python",
   "nbconvert_exporter": "python",
   "pygments_lexer": "ipython3",
   "version": "3.9.10"
  }
 },
 "nbformat": 4,
 "nbformat_minor": 4
}
