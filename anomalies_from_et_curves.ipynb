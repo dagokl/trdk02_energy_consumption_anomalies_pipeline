{
    "cells": [
        {
            "cell_type": "code",
            "execution_count": null,
            "metadata": {},
            "outputs": [],
            "source": [
                "import orchest\n",
                "import pandas as pd\n",
                "import time\n",
                "from sklearn.linear_model import LinearRegression\n",
                "import matplotlib.pyplot as plt"
            ]
        },
        {
            "cell_type": "code",
            "execution_count": null,
            "metadata": {},
            "outputs": [],
            "source": [
                "data = orchest.get_inputs()"
            ]
        },
        {
            "cell_type": "code",
            "execution_count": null,
            "metadata": {},
            "outputs": [],
            "source": [
                "clarify_data = data['clarify_data']\n",
                "energy_consumption_dfs = clarify_data['energy_consumption']\n",
                "temperature_df = clarify_data['temperature']\n",
                "\n",
                "et_curves_data = data['et_curves']\n",
                "et_curves_day_of_week = et_curves_data['day_of_week_et_curves']"
            ]
        },
        {
            "cell_type": "code",
            "execution_count": null,
            "metadata": {},
            "outputs": [],
            "source": [
                "start_looking_for_anomalies = datatime(2019, 12, 20)\n"
            ]
        }
    ],
    "metadata": {
        "kernelspec": {
            "display_name": "Python 3",
            "language": "python",
            "name": "orchest-kernel-8845bcfa-6937-4041-b924-3b6437bd77c4"
        },
        "language_info": {
            "codemirror_mode": {
                "name": "ipython",
                "version": 3
            },
            "file_extension": ".py",
            "mimetype": "text/x-python",
            "name": "python",
            "nbconvert_exporter": "python",
            "pygments_lexer": "ipython3",
            "version": "3.7.3"
        }
    },
    "nbformat": 4,
    "nbformat_minor": 4
}
