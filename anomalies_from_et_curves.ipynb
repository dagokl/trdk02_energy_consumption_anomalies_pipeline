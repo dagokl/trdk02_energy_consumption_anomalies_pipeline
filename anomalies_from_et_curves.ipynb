{
 "cells": [
  {
   "cell_type": "code",
   "execution_count": 1,
   "metadata": {},
   "outputs": [],
   "source": [
    "import orchest\n",
    "import pandas as pd\n",
    "import time\n",
    "from sklearn.linear_model import LinearRegression\n",
    "import matplotlib.pyplot as plt\n",
    "from et import ET\n",
    "from typing import Dict\n",
    "import numpy as np"
   ]
  },
  {
   "cell_type": "code",
   "execution_count": 2,
   "metadata": {},
   "outputs": [],
   "source": [
    "data = orchest.get_inputs()"
   ]
  },
  {
   "cell_type": "code",
   "execution_count": 3,
   "metadata": {},
   "outputs": [],
   "source": [
    "clarify_data = data['clarify_data']\n",
    "normalized_data = data['normalized_data']\n",
    "# energy_consumption_dfs = clarify_data['energy_consumption']\n",
    "energy_consumption_dfs = normalized_data['energy_consumption']\n",
    "temperature_df = clarify_data['temperature']\n",
    "\n",
    "et_curves_data = data['et_curves']\n",
    "ett_dict: Dict[str, Dict[str, ET]] = et_curves_data['ett_day_of_week']"
   ]
  },
  {
   "cell_type": "code",
   "execution_count": 4,
   "metadata": {},
   "outputs": [],
   "source": [
    "week_days = ['Monday', 'Tuesday', 'Wednesday', 'Thursday', 'Friday', 'Saturday', 'Sunday']"
   ]
  },
  {
   "cell_type": "code",
   "execution_count": 5,
   "metadata": {},
   "outputs": [],
   "source": [
    "building_names = list(ett_dict.keys())\n",
    "\n",
    "anomalies_dict = {}\n",
    "for building_name in building_names:\n",
    "    anomalies_list = []\n",
    "    for day in week_days:\n",
    "        et: ET = ett_dict[building_name][day]\n",
    "        a = et.get_anomolies_series(energy_consumption_dfs['daily'][building_name]['Totalt'], temperature_df['daily']['Voll TAN'])\n",
    "        anomalies_list.append(a)\n",
    "    \n",
    "    anomalies_series = pd.concat(anomalies_list)\n",
    "    anomalies_dict[building_name] = anomalies_series\n"
   ]
  },
  {
   "cell_type": "code",
   "execution_count": 6,
   "metadata": {},
   "outputs": [],
   "source": [
    "anomalies_from_et = {\n",
    "    'anomalies_from_ett': anomalies_dict\n",
    "}"
   ]
  },
  {
   "cell_type": "code",
   "execution_count": 7,
   "metadata": {},
   "outputs": [
    {
     "name": "stdout",
     "output_type": "stream",
     "text": [
      "outputting anomalies_from_et...\n",
      "success\n"
     ]
    }
   ],
   "source": [
    "print('outputting anomalies from et...')\n",
    "orchest.output(anomalies_from_et, name='anomalies_from_et')\n",
    "print('success')"
   ]
  },
  {
   "cell_type": "code",
   "execution_count": 8,
   "metadata": {},
   "outputs": [],
   "source": [
    "# building_dfs = energy_consumption_dfs['daily']\n",
    "\n",
    "# ETTs = ett_dict\n",
    "\n",
    "# daily_temp = temperature_df['daily']['Voll TAN']"
   ]
  },
  {
   "cell_type": "code",
   "execution_count": 9,
   "metadata": {},
   "outputs": [],
   "source": [
    "# start_looking_for_anomalies = datatime(2019, 12, 20)"
   ]
  },
  {
   "cell_type": "markdown",
   "metadata": {},
   "source": [
    "# Find number of anomalies for each day"
   ]
  },
  {
   "cell_type": "code",
   "execution_count": 10,
   "metadata": {},
   "outputs": [
    {
     "data": {
      "text/plain": [
       "\"\\n# find how many anomalies are each day. This is summed over all buildings\\ndays_amount = len(daily_temp)\\nanomalies_per_day = np.zeros(days_amount)\\n\\n# go through all buildings\\nfor building_name, building_data in list(building_dfs.items()):\\n    # skip building if it does not have ETT\\n    if building_name not in ETTs.keys():\\n        continue\\n    \\n    building_energy = building_data['Totalt']\\n    # load ETT for this building\\n    ETT = ETTs[building_name]\\n\\n    for day, et in ETT.items():\\n        # get energy and temperature data for this day\\n        day_energy = building_energy.loc[building_energy.index.weekday == week_days.index(day)]\\n        day_temp = daily_temp.loc[daily_temp.index.weekday == week_days.index(day)]\\n\\n        # get anomalies for this weekday\\n        anomalies = et.get_anomolies_series(day_energy, day_temp)\\n        # get days after first index in day_energy\\n        days_after_start = [(anomaly - building_energy.index[0]).days for anomaly in anomalies.index]\\n        # update the amount of anomalies for these days\\n        anomalies_per_day[days_after_start] += 1\\n\\n# plot the amount of anomalies for each day\\nplt.title('Anomalies per day')\\nplt.scatter(np.arange(days_amount), anomalies_per_day, label='Number of Anomalies')\\n# plot temperature data\\nplt.plot(-daily_temp.values+20, label='Negative Temperature + 20', color='red')\\nplt.legend()\\nplt.show()\\n\\n\""
      ]
     },
     "execution_count": 10,
     "metadata": {},
     "output_type": "execute_result"
    }
   ],
   "source": [
    "'''\n",
    "# find how many anomalies are each day. This is summed over all buildings\n",
    "days_amount = len(daily_temp)\n",
    "anomalies_per_day = np.zeros(days_amount)\n",
    "\n",
    "# go through all buildings\n",
    "for building_name, building_data in list(building_dfs.items()):\n",
    "    # skip building if it does not have ETT\n",
    "    if building_name not in ETTs.keys():\n",
    "        continue\n",
    "    \n",
    "    building_energy = building_data['Totalt']\n",
    "    # load ETT for this building\n",
    "    ETT = ETTs[building_name]\n",
    "\n",
    "    for day, et in ETT.items():\n",
    "        # get energy and temperature data for this day\n",
    "        day_energy = building_energy.loc[building_energy.index.weekday == week_days.index(day)]\n",
    "        day_temp = daily_temp.loc[daily_temp.index.weekday == week_days.index(day)]\n",
    "\n",
    "        # get anomalies for this weekday\n",
    "        anomalies = et.get_anomolies_series(day_energy, day_temp)\n",
    "        # get days after first index in day_energy\n",
    "        days_after_start = [(anomaly - building_energy.index[0]).days for anomaly in anomalies.index]\n",
    "        # update the amount of anomalies for these days\n",
    "        anomalies_per_day[days_after_start] += 1\n",
    "\n",
    "# plot the amount of anomalies for each day\n",
    "plt.title('Anomalies per day')\n",
    "plt.scatter(np.arange(days_amount), anomalies_per_day, label='Number of Anomalies')\n",
    "# plot temperature data\n",
    "plt.plot(-daily_temp.values+20, label='Negative Temperature + 20', color='red')\n",
    "plt.legend()\n",
    "plt.show()\n",
    "\n",
    "'''\n",
    "\n",
    "# plot the amount of anomalies for each day of the year\n",
    "# anomalies_per_day_year = anomalies_per_day[:-2]\n",
    "# anomalies_per_day_year = anomalies_per_day_year.reshape(5, -1)\n",
    "# anomalies_per_day_year = np.sum(anomalies_per_day_year, axis=0) / 5\n",
    "# temp_sum = daily_temp.values[:-2]\n",
    "# temp_sum = temp_sum.reshape(5, -1)\n",
    "# temp_sum = np.average(temp_sum, axis=0)\n",
    "# plt.title('Anomalies per day of the year')\n",
    "# plt.scatter(np.arange(365), anomalies_per_day_year, label='Number of Anomalies')\n",
    "# plt.plot(-temp_sum + 20, label='Negative Temperature + 20', color='red')\n",
    "# plt.legend()\n",
    "# plt.show()"
   ]
  },
  {
   "cell_type": "code",
   "execution_count": 11,
   "metadata": {},
   "outputs": [
    {
     "ename": "NameError",
     "evalue": "name 'anomalies_per_day' is not defined",
     "output_type": "error",
     "traceback": [
      "\u001b[0;31m---------------------------------------------------------------------------\u001b[0m",
      "\u001b[0;31mNameError\u001b[0m                                 Traceback (most recent call last)",
      "Input \u001b[0;32mIn [11]\u001b[0m, in \u001b[0;36m<cell line: 3>\u001b[0;34m()\u001b[0m\n\u001b[1;32m      1\u001b[0m \u001b[38;5;66;03m# plot the amount of anomalies for each day sorted descending\u001b[39;00m\n\u001b[1;32m      2\u001b[0m \u001b[38;5;66;03m# because so many days have the same amount the knee method stops too early. stepping over some points fixes this\u001b[39;00m\n\u001b[0;32m----> 3\u001b[0m anomalies_per_day_sorted \u001b[38;5;241m=\u001b[39m np\u001b[38;5;241m.\u001b[39msort(\u001b[43manomalies_per_day\u001b[49m)[::\u001b[38;5;241m-\u001b[39m\u001b[38;5;241m5\u001b[39m]\n\u001b[1;32m      4\u001b[0m days \u001b[38;5;241m=\u001b[39m \u001b[38;5;28mlen\u001b[39m(anomalies_per_day_sorted)\n",
      "\u001b[0;31mNameError\u001b[0m: name 'anomalies_per_day' is not defined"
     ]
    }
   ],
   "source": [
    "# plot the amount of anomalies for each day sorted descending\n",
    "# because so many days have the same amount the knee method stops too early. stepping over some points fixes this\n",
    "anomalies_per_day_sorted = np.sort(anomalies_per_day)[::-5]\n",
    "days = len(anomalies_per_day_sorted)\n",
    "\n",
    "# plt.scatter(np.arange(days), anomalies_per_day_sorted, label='Number of Anomalies')\n",
    "# knee_idx = KneeLocator(np.arange(days), anomalies_per_day_sorted, curve='convex', direction='decreasing').knee\n",
    "# knee_value = anomalies_per_day_sorted[knee_idx]\n",
    "# plt.vlines(knee_idx, 0, plt.ylim()[1], label='Knee', linestyles='dashed')\n",
    "# plt.axhline(y=knee_value, color='black', linestyle='dashed')\n",
    "# plt.title('Anomalies per day sorted descending - knee at ' + str(knee_idx) + ' with value ' + str(knee_value))\n",
    "# plt.legend()\n",
    "# plt.show()\n",
    "\n",
    "# plot the graphs from earlier with a horizontal line at knee_value\n",
    "# plt.title('Anomalies per day')\n",
    "# plt.scatter(np.arange(days_amount), anomalies_per_day, label='Number of Anomalies')\n",
    "# plt.plot(-daily_temp.values+20, label='Negative Temperature + 20', color='red')\n",
    "# plt.axhline(y=knee_value, color='black', linestyle='dashed')\n",
    "# plt.legend()\n",
    "# plt.show()\n",
    "\n",
    "# the same but day of the year\n",
    "# anomalies_per_day_year_sorted = np.sort(anomalies_per_day_year)[::-5]\n",
    "# days = len(anomalies_per_day_year_sorted)\n",
    "# plt.scatter(np.arange(days), anomalies_per_day_year_sorted, label='Number of Anomalies')\n",
    "# knee_idx = KneeLocator(np.arange(days), anomalies_per_day_year_sorted, curve='convex', direction='decreasing').knee\n",
    "# knee_value_year = anomalies_per_day_year_sorted[knee_idx]\n",
    "# plt.vlines(knee_idx, 0, plt.ylim()[1], label='Knee', linestyles='dashed')\n",
    "# plt.axhline(y=knee_value_year, color='black', linestyle='dashed')\n",
    "# plt.title('Anomalies per day of the year sorted descending - knee at ' + str(knee_idx) + ' with value ' + str(knee_value_year))\n",
    "# plt.legend()\n",
    "# plt.show()\n",
    "\n",
    "# plot the graphs from earlier with a horizontal line at knee_value_year\n",
    "# plt.title('Anomalies per day of the year')\n",
    "# plt.scatter(np.arange(365), anomalies_per_day_year, label='Number of Anomalies')\n",
    "# plt.plot(-temp_sum + 20, label='Negative Temperature + 20', color='red')\n",
    "# plt.axhline(y=knee_value_year, color='black', linestyle='dashed')\n",
    "# plt.legend()\n",
    "# plt.show()"
   ]
  },
  {
   "cell_type": "code",
   "execution_count": null,
   "metadata": {},
   "outputs": [],
   "source": [
    "# plot the Energy usage and it's anomalies of a random building\n",
    "# building_name = random.choice(list(ETTs.keys()))\n",
    "'''\n",
    "building_name = list(building_dfs.keys())[1]\n",
    "ETT = ETTs[building_name]\n",
    "building_energy = building_dfs[building_name]['Totalt']\n",
    "\n",
    "anomalies = []\n",
    "for day, et in ETT.items():\n",
    "    day_energy = building_energy.loc[building_energy.index.weekday == week_days.index(day)]\n",
    "    day_temp = daily_temp.loc[daily_temp.index.weekday == week_days.index(day)]\n",
    "    dates = et.get_anomolies_series(day_energy, day_temp).index\n",
    "    anomalies.extend(dates)\n",
    "\n",
    "# plot energy usage and anomalies\n",
    "plt.title('Energy usage and all anomalies: ' + building_name)\n",
    "plt.plot(building_energy, label='Energy usage')\n",
    "plt.scatter(anomalies, building_energy.loc[anomalies], label='Anomalies', color='red')\n",
    "plt.legend()\n",
    "plt.show()\n",
    "print('Anomalies: ' + str(len(anomalies)))\n",
    "\n",
    "# remove an anomaly if there are more than knee_value_year anomalies that day\n",
    "# turn anomalies dates to day of year list\n",
    "days_of_year = [anomaly.timetuple().tm_yday -1 for anomaly in anomalies]\n",
    "days_of_year = np.array(days_of_year)\n",
    "anomalies_on_days_of_year = anomalies_per_day_year[days_of_year]\n",
    "# external_factor_mask = anomalies_on_days_of_year > knee_value_year\n",
    "external_factor_mask = anomalies_on_days_of_year > (-daily_temp+25)[days_of_year]\n",
    "# remove anomalies where mask is true\n",
    "new_anomalies = [anomaly for anomaly, mask in zip(anomalies, external_factor_mask) if not mask]\n",
    "anomalies_removed = list(set(anomalies) - set(new_anomalies))\n",
    "anomalies = new_anomalies\n",
    "\n",
    "# plot energy usage and anomalies after removing anomalies\n",
    "plt.title('Energy usage and removed common anomalies: ' + building_name)\n",
    "plt.plot(building_energy, label='Energy usage')\n",
    "plt.scatter(anomalies, building_energy.loc[anomalies], label='Anomalies', color='red')\n",
    "plt.scatter(anomalies_removed, building_energy.loc[anomalies_removed], label='Removed Anomalies', color='green')\n",
    "plt.legend()\n",
    "plt.show()\n",
    "print('Anomalies: ' + str(len(anomalies)))\n",
    "'''"
   ]
  },
  {
   "cell_type": "code",
   "execution_count": null,
   "metadata": {},
   "outputs": [],
   "source": []
  }
 ],
 "metadata": {
  "kernelspec": {
   "display_name": "Python 3",
   "language": "python",
   "name": "orchest-kernel-8845bcfa-6937-4041-b924-3b6437bd77c4"
  },
  "language_info": {
   "codemirror_mode": {
    "name": "ipython",
    "version": 3
   },
   "file_extension": ".py",
   "mimetype": "text/x-python",
   "name": "python",
   "nbconvert_exporter": "python",
   "pygments_lexer": "ipython3",
   "version": "3.9.10"
  }
 },
 "nbformat": 4,
 "nbformat_minor": 4
}
