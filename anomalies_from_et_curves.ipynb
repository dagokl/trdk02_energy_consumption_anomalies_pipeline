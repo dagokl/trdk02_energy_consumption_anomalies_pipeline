{
 "cells": [
  {
   "cell_type": "markdown",
   "metadata": {},
   "source": [
    "# Find anomalies using ETT\n",
    "In this notebook we find anomalies using the ETTs generated in previous steps. "
   ]
  },
  {
   "cell_type": "code",
   "execution_count": 1,
   "metadata": {
    "execution": {
     "iopub.execute_input": "2022-05-04T22:28:08.513954Z",
     "iopub.status.busy": "2022-05-04T22:28:08.513499Z",
     "iopub.status.idle": "2022-05-04T22:28:10.454179Z",
     "shell.execute_reply": "2022-05-04T22:28:10.453426Z"
    }
   },
   "outputs": [],
   "source": [
    "import orchest\n",
    "import pandas as pd\n",
    "import time\n",
    "from sklearn.linear_model import LinearRegression\n",
    "import matplotlib.pyplot as plt\n",
    "from et import ET, ETT\n",
    "from typing import Dict\n",
    "import numpy as np\n",
    "from utils import Anomaly"
   ]
  },
  {
   "cell_type": "code",
   "execution_count": 2,
   "metadata": {
    "execution": {
     "iopub.execute_input": "2022-05-04T22:28:10.463394Z",
     "iopub.status.busy": "2022-05-04T22:28:10.462876Z",
     "iopub.status.idle": "2022-05-04T22:28:10.786528Z",
     "shell.execute_reply": "2022-05-04T22:28:10.785859Z"
    }
   },
   "outputs": [],
   "source": [
    "data = orchest.get_inputs()"
   ]
  },
  {
   "cell_type": "code",
   "execution_count": 3,
   "metadata": {
    "execution": {
     "iopub.execute_input": "2022-05-04T22:28:10.795536Z",
     "iopub.status.busy": "2022-05-04T22:28:10.794874Z",
     "iopub.status.idle": "2022-05-04T22:28:10.799122Z",
     "shell.execute_reply": "2022-05-04T22:28:10.798504Z"
    }
   },
   "outputs": [],
   "source": [
    "clarify_data = data['clarify_data']\n",
    "normalized_data = data['normalized_data']\n",
    "# energy_consumption_dfs = clarify_data['energy_consumption']\n",
    "energy_consumption_dfs = normalized_data['energy_consumption']\n",
    "temperature_df = clarify_data['temperature']\n",
    "\n",
    "et_curves_data = data['et_curves']\n",
    "ett_dict: ETT = et_curves_data['ett_day_of_week']"
   ]
  },
  {
   "cell_type": "code",
   "execution_count": 4,
   "metadata": {
    "execution": {
     "iopub.execute_input": "2022-05-04T22:28:10.806518Z",
     "iopub.status.busy": "2022-05-04T22:28:10.806318Z",
     "iopub.status.idle": "2022-05-04T22:28:14.535778Z",
     "shell.execute_reply": "2022-05-04T22:28:14.535180Z"
    },
    "tags": []
   },
   "outputs": [],
   "source": [
    "building_names = list(ett_dict.keys())\n",
    "\n",
    "anomalies_dict = {}\n",
    "for i, building_name in enumerate(building_names):\n",
    "    anomalies_dict[building_name] = ett_dict[building_name].get_anomalies(energy_consumption_dfs['daily'][building_name]['Totalt'], temperature_df['daily']['Voll TAN'], building_name)\n",
    "    # if i < 2:\n",
    "    #     print(f'{building_name}:')\n",
    "    #     ett_dict[building_name].plot(energy_consumption_dfs['daily'][building_name]['Totalt'], temperature_df['daily']['Voll TAN'])\n"
   ]
  },
  {
   "cell_type": "code",
   "execution_count": 5,
   "metadata": {
    "execution": {
     "iopub.execute_input": "2022-05-04T22:28:14.558327Z",
     "iopub.status.busy": "2022-05-04T22:28:14.556169Z",
     "iopub.status.idle": "2022-05-04T22:28:14.568984Z",
     "shell.execute_reply": "2022-05-04T22:28:14.568452Z"
    }
   },
   "outputs": [],
   "source": [
    "anomalies_from_et = {\n",
    "    'anomalies_from_ett': anomalies_dict\n",
    "}"
   ]
  },
  {
   "cell_type": "code",
   "execution_count": 6,
   "metadata": {
    "execution": {
     "iopub.execute_input": "2022-05-04T22:28:14.591504Z",
     "iopub.status.busy": "2022-05-04T22:28:14.591293Z",
     "iopub.status.idle": "2022-05-04T22:28:15.007352Z",
     "shell.execute_reply": "2022-05-04T22:28:15.006752Z"
    },
    "tags": []
   },
   "outputs": [
    {
     "name": "stdout",
     "output_type": "stream",
     "text": [
      "outputting anomalies from et...\n",
      "success\n"
     ]
    }
   ],
   "source": [
    "print('outputting anomalies from et...')\n",
    "orchest.output(anomalies_from_et, name='anomalies_from_et')\n",
    "print('success')"
   ]
  }
 ],
 "metadata": {
  "kernelspec": {
   "display_name": "Python 3",
   "language": "python",
   "name": "orchest-kernel-8845bcfa-6937-4041-b924-3b6437bd77c4"
  },
  "language_info": {
   "codemirror_mode": {
    "name": "ipython",
    "version": 3
   },
   "file_extension": ".py",
   "mimetype": "text/x-python",
   "name": "python",
   "nbconvert_exporter": "python",
   "pygments_lexer": "ipython3",
   "version": "3.9.10"
  }
 },
 "nbformat": 4,
 "nbformat_minor": 4
}
