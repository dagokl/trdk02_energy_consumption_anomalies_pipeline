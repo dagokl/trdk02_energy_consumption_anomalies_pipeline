{
 "cells": [
  {
   "cell_type": "markdown",
   "metadata": {},
   "source": [
    "# Find anomalies using ETT\n",
    "In this notebook we find anomalies using the ETTs generated in previous steps. "
   ]
  },
  {
   "cell_type": "code",
   "execution_count": 1,
   "metadata": {
    "execution": {
     "iopub.execute_input": "2022-04-29T13:55:05.204911Z",
     "iopub.status.busy": "2022-04-29T13:55:05.204639Z",
     "iopub.status.idle": "2022-04-29T13:55:07.159235Z",
     "shell.execute_reply": "2022-04-29T13:55:07.158394Z"
    }
   },
   "outputs": [],
   "source": [
    "import orchest\n",
    "import pandas as pd\n",
    "import time\n",
    "from sklearn.linear_model import LinearRegression\n",
    "import matplotlib.pyplot as plt\n",
    "from et import ET, ETT\n",
    "from typing import Dict\n",
    "import numpy as np\n",
    "from utils import Anomaly"
   ]
  },
  {
   "cell_type": "code",
   "execution_count": 2,
   "metadata": {
    "execution": {
     "iopub.execute_input": "2022-04-29T13:55:07.167562Z",
     "iopub.status.busy": "2022-04-29T13:55:07.167023Z",
     "iopub.status.idle": "2022-04-29T13:55:07.492998Z",
     "shell.execute_reply": "2022-04-29T13:55:07.492285Z"
    }
   },
   "outputs": [],
   "source": [
    "data = orchest.get_inputs()"
   ]
  },
  {
   "cell_type": "code",
   "execution_count": 3,
   "metadata": {
    "execution": {
     "iopub.execute_input": "2022-04-29T13:55:07.502693Z",
     "iopub.status.busy": "2022-04-29T13:55:07.502479Z",
     "iopub.status.idle": "2022-04-29T13:55:07.508570Z",
     "shell.execute_reply": "2022-04-29T13:55:07.508006Z"
    }
   },
   "outputs": [],
   "source": [
    "clarify_data = data['clarify_data']\n",
    "normalized_data = data['normalized_data']\n",
    "# energy_consumption_dfs = clarify_data['energy_consumption']\n",
    "energy_consumption_dfs = normalized_data['energy_consumption']\n",
    "temperature_df = clarify_data['temperature']\n",
    "\n",
    "et_curves_data = data['et_curves']\n",
    "ett_dict: ETT = et_curves_data['ett_day_of_week']"
   ]
  },
  {
   "cell_type": "code",
   "execution_count": 4,
   "metadata": {
    "execution": {
     "iopub.execute_input": "2022-04-29T13:55:07.517617Z",
     "iopub.status.busy": "2022-04-29T13:55:07.517395Z",
     "iopub.status.idle": "2022-04-29T13:55:10.818937Z",
     "shell.execute_reply": "2022-04-29T13:55:10.818233Z"
    },
    "tags": []
   },
   "outputs": [],
   "source": [
    "building_names = list(ett_dict.keys())\n",
    "\n",
    "anomalies_dict = {}\n",
    "for i, building_name in enumerate(building_names):\n",
    "    anomalies_dict[building_name] = ett_dict[building_name].get_anomalies(energy_consumption_dfs['daily'][building_name]['Totalt'], temperature_df['daily']['Voll TAN'], building_name)\n",
    "    # if i < 2:\n",
    "    #     print(f'{building_name}:')\n",
    "    #     ett_dict[building_name].plot(energy_consumption_dfs['daily'][building_name]['Totalt'], temperature_df['daily']['Voll TAN'])\n"
   ]
  },
  {
   "cell_type": "code",
   "execution_count": 5,
   "metadata": {
    "execution": {
     "iopub.execute_input": "2022-04-29T13:55:10.827060Z",
     "iopub.status.busy": "2022-04-29T13:55:10.826759Z",
     "iopub.status.idle": "2022-04-29T13:55:10.831278Z",
     "shell.execute_reply": "2022-04-29T13:55:10.830609Z"
    }
   },
   "outputs": [],
   "source": [
    "anomalies_from_et = {\n",
    "    'anomalies_from_ett': anomalies_dict\n",
    "}"
   ]
  },
  {
   "cell_type": "code",
   "execution_count": 6,
   "metadata": {
    "execution": {
     "iopub.execute_input": "2022-04-29T13:55:10.838992Z",
     "iopub.status.busy": "2022-04-29T13:55:10.838629Z",
     "iopub.status.idle": "2022-04-29T13:55:10.957207Z",
     "shell.execute_reply": "2022-04-29T13:55:10.956603Z"
    },
    "tags": []
   },
   "outputs": [
    {
     "name": "stdout",
     "output_type": "stream",
     "text": [
      "outputting anomalies from et...\n",
      "success\n"
     ]
    }
   ],
   "source": [
    "print('outputting anomalies from et...')\n",
    "orchest.output(anomalies_from_et, name='anomalies_from_et')\n",
    "print('success')"
   ]
  }
 ],
 "metadata": {
  "kernelspec": {
   "display_name": "Python 3",
   "language": "python",
   "name": "orchest-kernel-8845bcfa-6937-4041-b924-3b6437bd77c4"
  },
  "language_info": {
   "codemirror_mode": {
    "name": "ipython",
    "version": 3
   },
   "file_extension": ".py",
   "mimetype": "text/x-python",
   "name": "python",
   "nbconvert_exporter": "python",
   "pygments_lexer": "ipython3",
   "version": "3.9.10"
  }
 },
 "nbformat": 4,
 "nbformat_minor": 4
}
