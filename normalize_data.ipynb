{
 "cells": [
  {
   "cell_type": "code",
   "execution_count": 1,
   "metadata": {
    "execution": {
     "iopub.execute_input": "2022-03-29T19:17:05.178129Z",
     "iopub.status.busy": "2022-03-29T19:17:05.177876Z",
     "iopub.status.idle": "2022-03-29T19:17:06.953038Z",
     "shell.execute_reply": "2022-03-29T19:17:06.952398Z"
    }
   },
   "outputs": [],
   "source": [
    "import matplotlib.pyplot as plt\n",
    "import pandas as pd\n",
    "from sklearn.linear_model import LinearRegression\n",
    "import numpy as np\n",
    "from kneed import KneeLocator\n",
    "import random\n",
    "import orchest"
   ]
  },
  {
   "cell_type": "code",
   "execution_count": 2,
   "metadata": {
    "execution": {
     "iopub.execute_input": "2022-03-29T19:17:06.959884Z",
     "iopub.status.busy": "2022-03-29T19:17:06.959678Z",
     "iopub.status.idle": "2022-03-29T19:17:07.055062Z",
     "shell.execute_reply": "2022-03-29T19:17:07.054243Z"
    }
   },
   "outputs": [],
   "source": [
    "data = orchest.get_inputs()\n",
    "\n",
    "clarify_data = data['clarify_data']\n",
    "energy_consumption_dfs = clarify_data['energy_consumption']\n",
    "temperature_df = clarify_data['temperature']"
   ]
  },
  {
   "cell_type": "code",
   "execution_count": 3,
   "metadata": {
    "execution": {
     "iopub.execute_input": "2022-03-29T19:17:07.061579Z",
     "iopub.status.busy": "2022-03-29T19:17:07.061390Z",
     "iopub.status.idle": "2022-03-29T19:17:07.855146Z",
     "shell.execute_reply": "2022-03-29T19:17:07.854339Z"
    }
   },
   "outputs": [],
   "source": [
    "# normalize energy consumption data\n",
    "sample_periods = list(energy_consumption_dfs.keys())\n",
    "for sample_period in sample_periods:\n",
    "    for building_name in energy_consumption_dfs[sample_period].keys():\n",
    "        energy_min = energy_consumption_dfs[sample_period][building_name].min()\n",
    "        energy_max = energy_consumption_dfs[sample_period][building_name].max()\n",
    "        energy_consumption_dfs[sample_period][building_name] = (energy_consumption_dfs[sample_period][building_name] - energy_min) / (energy_max - energy_min)"
   ]
  },
  {
   "cell_type": "code",
   "execution_count": 4,
   "metadata": {
    "execution": {
     "iopub.execute_input": "2022-03-29T19:17:07.861652Z",
     "iopub.status.busy": "2022-03-29T19:17:07.861462Z",
     "iopub.status.idle": "2022-03-29T19:17:07.864739Z",
     "shell.execute_reply": "2022-03-29T19:17:07.864118Z"
    }
   },
   "outputs": [],
   "source": [
    "normalized_data = {\n",
    "    'energy_consumption': energy_consumption_dfs\n",
    "}"
   ]
  },
  {
   "cell_type": "code",
   "execution_count": 5,
   "metadata": {
    "execution": {
     "iopub.execute_input": "2022-03-29T19:17:07.870887Z",
     "iopub.status.busy": "2022-03-29T19:17:07.870703Z",
     "iopub.status.idle": "2022-03-29T19:17:07.994361Z",
     "shell.execute_reply": "2022-03-29T19:17:07.993637Z"
    }
   },
   "outputs": [],
   "source": [
    "orchest.output(normalized_data, name='normalized_data')"
   ]
  }
 ],
 "metadata": {
  "kernelspec": {
   "display_name": "Python 3",
   "language": "python",
   "name": "orchest-kernel-8845bcfa-6937-4041-b924-3b6437bd77c4"
  },
  "language_info": {
   "codemirror_mode": {
    "name": "ipython",
    "version": 3
   },
   "file_extension": ".py",
   "mimetype": "text/x-python",
   "name": "python",
   "nbconvert_exporter": "python",
   "pygments_lexer": "ipython3",
   "version": "3.9.10"
  }
 },
 "nbformat": 4,
 "nbformat_minor": 4
}
