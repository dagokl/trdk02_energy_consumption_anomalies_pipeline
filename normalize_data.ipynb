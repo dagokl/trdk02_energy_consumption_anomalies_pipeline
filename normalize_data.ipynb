{
 "cells": [
  {
   "cell_type": "code",
   "execution_count": 1,
   "metadata": {
    "execution": {
     "iopub.execute_input": "2022-04-07T11:34:40.533893Z",
     "iopub.status.busy": "2022-04-07T11:34:40.533626Z",
     "iopub.status.idle": "2022-04-07T11:34:42.459732Z",
     "shell.execute_reply": "2022-04-07T11:34:42.458980Z"
    }
   },
   "outputs": [],
   "source": [
    "import matplotlib.pyplot as plt\n",
    "import pandas as pd\n",
    "from sklearn.linear_model import LinearRegression\n",
    "import numpy as np\n",
    "from kneed import KneeLocator\n",
    "import random\n",
    "import orchest"
   ]
  },
  {
   "cell_type": "code",
   "execution_count": 2,
   "metadata": {
    "execution": {
     "iopub.execute_input": "2022-04-07T11:34:42.466960Z",
     "iopub.status.busy": "2022-04-07T11:34:42.466750Z",
     "iopub.status.idle": "2022-04-07T11:34:42.553646Z",
     "shell.execute_reply": "2022-04-07T11:34:42.552903Z"
    }
   },
   "outputs": [],
   "source": [
    "data = orchest.get_inputs()\n",
    "\n",
    "clarify_data = data['clarify_data']\n",
    "energy_consumption_dfs = clarify_data['energy_consumption']\n",
    "temperature_df = clarify_data['temperature']"
   ]
  },
  {
   "cell_type": "code",
   "execution_count": 3,
   "metadata": {
    "execution": {
     "iopub.execute_input": "2022-04-07T11:34:42.561306Z",
     "iopub.status.busy": "2022-04-07T11:34:42.560736Z",
     "iopub.status.idle": "2022-04-07T11:34:43.665583Z",
     "shell.execute_reply": "2022-04-07T11:34:43.664863Z"
    }
   },
   "outputs": [],
   "source": [
    "# normalize energy consumption data\n",
    "sample_periods = list(energy_consumption_dfs.keys())\n",
    "for sample_period in sample_periods:\n",
    "    for building_name in energy_consumption_dfs[sample_period].keys():\n",
    "        energy_min = energy_consumption_dfs[sample_period][building_name].min()\n",
    "        energy_max = energy_consumption_dfs[sample_period][building_name].max()\n",
    "        energy_consumption_dfs[sample_period][building_name] = (energy_consumption_dfs[sample_period][building_name] - energy_min) / (energy_max - energy_min)"
   ]
  },
  {
   "cell_type": "code",
   "execution_count": 4,
   "metadata": {
    "execution": {
     "iopub.execute_input": "2022-04-07T11:34:43.672947Z",
     "iopub.status.busy": "2022-04-07T11:34:43.672329Z",
     "iopub.status.idle": "2022-04-07T11:34:43.675910Z",
     "shell.execute_reply": "2022-04-07T11:34:43.675172Z"
    }
   },
   "outputs": [],
   "source": [
    "normalized_data = {\n",
    "    'energy_consumption': energy_consumption_dfs\n",
    "}"
   ]
  },
  {
   "cell_type": "code",
   "execution_count": 5,
   "metadata": {
    "execution": {
     "iopub.execute_input": "2022-04-07T11:34:43.682687Z",
     "iopub.status.busy": "2022-04-07T11:34:43.682486Z",
     "iopub.status.idle": "2022-04-07T11:34:43.808440Z",
     "shell.execute_reply": "2022-04-07T11:34:43.807710Z"
    }
   },
   "outputs": [],
   "source": [
    "orchest.output(normalized_data, name='normalized_data')"
   ]
  }
 ],
 "metadata": {
  "kernelspec": {
   "display_name": "Python 3",
   "language": "python",
   "name": "orchest-kernel-8845bcfa-6937-4041-b924-3b6437bd77c4"
  },
  "language_info": {
   "codemirror_mode": {
    "name": "ipython",
    "version": 3
   },
   "file_extension": ".py",
   "mimetype": "text/x-python",
   "name": "python",
   "nbconvert_exporter": "python",
   "pygments_lexer": "ipython3",
   "version": "3.9.10"
  }
 },
 "nbformat": 4,
 "nbformat_minor": 4
}
