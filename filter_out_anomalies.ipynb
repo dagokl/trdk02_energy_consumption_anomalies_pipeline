{
 "cells": [
  {
   "cell_type": "markdown",
   "metadata": {},
   "source": [
    "# Filter out anomalies\n",
    "This notebook takes anomalies from the previous step and only keeps the most intense anomalies. The idea idea behind this is that if there are many anomalies across many buildings on the same day it is likely that the anomalies are cause by an external factor. This external factor could for example be holidays or wind."
   ]
  },
  {
   "cell_type": "code",
   "execution_count": 1,
   "metadata": {
    "execution": {
     "iopub.execute_input": "2022-04-29T13:55:15.498423Z",
     "iopub.status.busy": "2022-04-29T13:55:15.498000Z",
     "iopub.status.idle": "2022-04-29T13:55:15.777471Z",
     "shell.execute_reply": "2022-04-29T13:55:15.776815Z"
    }
   },
   "outputs": [],
   "source": [
    "import orchest\n",
    "import numpy as np\n",
    "from pyclarify import *\n",
    "from utils import Anomaly"
   ]
  },
  {
   "cell_type": "code",
   "execution_count": 2,
   "metadata": {
    "execution": {
     "iopub.execute_input": "2022-04-29T13:55:15.785973Z",
     "iopub.status.busy": "2022-04-29T13:55:15.785499Z",
     "iopub.status.idle": "2022-04-29T13:55:16.432420Z",
     "shell.execute_reply": "2022-04-29T13:55:16.431828Z"
    }
   },
   "outputs": [],
   "source": [
    "data = orchest.get_inputs()\n",
    "\n",
    "anomalies = data['anomalies_from_et']['anomalies_from_ett']\n",
    "\n",
    "anomaly_count_before = [len(a_list) for a_list in anomalies.values()]"
   ]
  },
  {
   "cell_type": "code",
   "execution_count": 3,
   "metadata": {
    "execution": {
     "iopub.execute_input": "2022-04-29T13:55:16.449022Z",
     "iopub.status.busy": "2022-04-29T13:55:16.448319Z",
     "iopub.status.idle": "2022-04-29T13:55:16.490124Z",
     "shell.execute_reply": "2022-04-29T13:55:16.489382Z"
    }
   },
   "outputs": [],
   "source": [
    "max_daily_anomalies = 40\n",
    "anomalies_by_date = {}\n",
    "\n",
    "for building, anomaly_list in anomalies.items():\n",
    "    for anomaly in anomaly_list:\n",
    "        if anomaly.start not in anomalies_by_date:\n",
    "            anomalies_by_date[anomaly.start] = []\n",
    "        \n",
    "        anomalies_by_date[anomaly.start].append(anomaly)\n",
    "\n",
    "# remove least intense anomalies from inital dictionary where the anomunt of anomalies on same day exceed max\n",
    "for anomaly_list in anomalies_by_date.values():\n",
    "    if len(anomaly_list) > max_daily_anomalies:\n",
    "        anomaly_list.sort(key=lambda x: x.intensity, reverse=True)\n",
    "        for anomaly_to_remove in anomaly_list[max_daily_anomalies+1:]:\n",
    "            anomalies[anomaly_to_remove.building].remove(anomaly_to_remove)"
   ]
  },
  {
   "cell_type": "code",
   "execution_count": 4,
   "metadata": {
    "execution": {
     "iopub.execute_input": "2022-04-29T13:55:16.499767Z",
     "iopub.status.busy": "2022-04-29T13:55:16.498461Z",
     "iopub.status.idle": "2022-04-29T13:55:16.508515Z",
     "shell.execute_reply": "2022-04-29T13:55:16.507965Z"
    }
   },
   "outputs": [
    {
     "name": "stdout",
     "output_type": "stream",
     "text": [
      "mean anomalies per building:\n",
      "before 83.0\n",
      "after 65.6\n",
      "reduction 17.4\n"
     ]
    }
   ],
   "source": [
    "anomaly_count_after = [len(anomaly_list) for anomaly_list in anomalies.values()]\n",
    "count_reduction = [before - after for before, after in zip(anomaly_count_before, anomaly_count_after)]\n",
    "\n",
    "print(f'mean anomalies per building:')\n",
    "print(f'before {np.mean(anomaly_count_before):.1f}')\n",
    "print(f'after {np.mean(anomaly_count_after):.1f}')\n",
    "print(f'reduction {np.mean(count_reduction):.1f}')"
   ]
  },
  {
   "cell_type": "code",
   "execution_count": 5,
   "metadata": {
    "execution": {
     "iopub.execute_input": "2022-04-29T13:55:16.516636Z",
     "iopub.status.busy": "2022-04-29T13:55:16.516428Z",
     "iopub.status.idle": "2022-04-29T13:55:16.519644Z",
     "shell.execute_reply": "2022-04-29T13:55:16.519089Z"
    }
   },
   "outputs": [],
   "source": [
    "filtered_anomalies = {\n",
    "    'filtered_anomalies': anomalies\n",
    "}"
   ]
  },
  {
   "cell_type": "code",
   "execution_count": 6,
   "metadata": {
    "execution": {
     "iopub.execute_input": "2022-04-29T13:55:16.528759Z",
     "iopub.status.busy": "2022-04-29T13:55:16.528562Z",
     "iopub.status.idle": "2022-04-29T13:55:16.632794Z",
     "shell.execute_reply": "2022-04-29T13:55:16.631844Z"
    },
    "tags": []
   },
   "outputs": [
    {
     "name": "stdout",
     "output_type": "stream",
     "text": [
      "outputting filtered anomalies...\n",
      "success\n"
     ]
    }
   ],
   "source": [
    "print('outputting filtered anomalies...')\n",
    "orchest.output(filtered_anomalies, name='filtered_anomalies')\n",
    "print('success')"
   ]
  }
 ],
 "metadata": {
  "kernelspec": {
   "display_name": "Python 3",
   "language": "python",
   "name": "orchest-kernel-8845bcfa-6937-4041-b924-3b6437bd77c4"
  },
  "language_info": {
   "codemirror_mode": {
    "name": "ipython",
    "version": 3
   },
   "file_extension": ".py",
   "mimetype": "text/x-python",
   "name": "python",
   "nbconvert_exporter": "python",
   "pygments_lexer": "ipython3",
   "version": "3.9.10"
  }
 },
 "nbformat": 4,
 "nbformat_minor": 4
}
