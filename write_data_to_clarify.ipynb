{
 "cells": [
  {
   "cell_type": "markdown",
   "metadata": {},
   "source": [
    "# Write anomalies to clarify\n",
    "In this notebook we write back the anomalies we have found to clarify."
   ]
  },
  {
   "cell_type": "code",
   "execution_count": 1,
   "metadata": {
    "execution": {
     "iopub.execute_input": "2022-04-29T13:55:19.679201Z",
     "iopub.status.busy": "2022-04-29T13:55:19.678691Z",
     "iopub.status.idle": "2022-04-29T13:55:19.970584Z",
     "shell.execute_reply": "2022-04-29T13:55:19.969868Z"
    }
   },
   "outputs": [],
   "source": [
    "import orchest\n",
    "import numpy as np\n",
    "from pyclarify import *\n",
    "from utils import Anomaly"
   ]
  },
  {
   "cell_type": "code",
   "execution_count": 2,
   "metadata": {
    "execution": {
     "iopub.execute_input": "2022-04-29T13:55:19.979643Z",
     "iopub.status.busy": "2022-04-29T13:55:19.978956Z",
     "iopub.status.idle": "2022-04-29T13:55:20.728366Z",
     "shell.execute_reply": "2022-04-29T13:55:20.727647Z"
    }
   },
   "outputs": [],
   "source": [
    "data = orchest.get_inputs()\n",
    "\n",
    "clarify_data = data['clarify_data']\n",
    "energy_consumption_dfs = clarify_data['energy_consumption']\n",
    "\n",
    "anomalies = data['filtered_anomalies']['filtered_anomalies']"
   ]
  },
  {
   "cell_type": "code",
   "execution_count": 3,
   "metadata": {
    "execution": {
     "iopub.execute_input": "2022-04-29T13:55:20.737496Z",
     "iopub.status.busy": "2022-04-29T13:55:20.737002Z",
     "iopub.status.idle": "2022-04-29T13:55:20.741193Z",
     "shell.execute_reply": "2022-04-29T13:55:20.740436Z"
    }
   },
   "outputs": [],
   "source": [
    "clarify_client = ClarifyClient(\"clarify-credentials.json\")"
   ]
  },
  {
   "cell_type": "code",
   "execution_count": 4,
   "metadata": {
    "execution": {
     "iopub.execute_input": "2022-04-29T13:55:20.749556Z",
     "iopub.status.busy": "2022-04-29T13:55:20.749336Z",
     "iopub.status.idle": "2022-04-29T13:55:20.754750Z",
     "shell.execute_reply": "2022-04-29T13:55:20.754090Z"
    }
   },
   "outputs": [],
   "source": [
    "building_name = list(energy_consumption_dfs['hourly'])[1]\n",
    "\n",
    "energy_consumption_dfs['hourly'][building_name]\n",
    "\n",
    "start = energy_consumption_dfs['hourly'][building_name].index[0]\n",
    "end = energy_consumption_dfs['hourly'][building_name].index[-1]"
   ]
  },
  {
   "cell_type": "code",
   "execution_count": 5,
   "metadata": {
    "execution": {
     "iopub.execute_input": "2022-04-29T13:55:20.763140Z",
     "iopub.status.busy": "2022-04-29T13:55:20.762564Z",
     "iopub.status.idle": "2022-04-29T13:55:20.767427Z",
     "shell.execute_reply": "2022-04-29T13:55:20.766669Z"
    }
   },
   "outputs": [],
   "source": [
    "anomalies[building_name].sort(key=lambda x: x.start)\n",
    "\n",
    "c = None\n",
    "i = 0\n",
    "while i < len(anomalies[building_name]):\n",
    "    if anomalies[building_name][i].start == c:\n",
    "         anomalies[building_name].pop(i)\n",
    "    else:\n",
    "        c = anomalies[building_name][i].start\n",
    "        i += 1"
   ]
  },
  {
   "cell_type": "code",
   "execution_count": 6,
   "metadata": {
    "execution": {
     "iopub.execute_input": "2022-04-29T13:55:20.777482Z",
     "iopub.status.busy": "2022-04-29T13:55:20.777272Z",
     "iopub.status.idle": "2022-04-29T13:55:20.783629Z",
     "shell.execute_reply": "2022-04-29T13:55:20.782847Z"
    }
   },
   "outputs": [],
   "source": [
    "index_list = energy_consumption_dfs['daily'][building_name].index\n",
    "enum_list = np.zeros(len(index_list), dtype=int)\n",
    "\n",
    "for a in anomalies[building_name]:\n",
    "    i = index_list.get_loc(a.start)\n",
    "    enum_list[i] = 1"
   ]
  },
  {
   "cell_type": "code",
   "execution_count": 7,
   "metadata": {
    "execution": {
     "iopub.execute_input": "2022-04-29T13:55:20.792949Z",
     "iopub.status.busy": "2022-04-29T13:55:20.792481Z",
     "iopub.status.idle": "2022-04-29T13:55:20.816756Z",
     "shell.execute_reply": "2022-04-29T13:55:20.816078Z"
    }
   },
   "outputs": [],
   "source": [
    "index_list = energy_consumption_dfs['hourly'][building_name].index\n",
    "\n",
    "enum_list = np.zeros(len(index_list), dtype=int)\n",
    "\n",
    "for a in anomalies[building_name]:\n",
    "    mask = np.logical_and(a.start <= index_list, index_list < a.end)\n",
    "    enum_list = enum_list + mask\n",
    "\n",
    "signal_list = energy_consumption_dfs['hourly'][building_name]['Totalt'].to_list() * enum_list\n",
    "signal_list = [x if x != 0 else None for x in signal_list]\n",
    "\n",
    "enum_list = [int(x) for x in enum_list]\n",
    "\n",
    "t = index_list.values.tolist()"
   ]
  },
  {
   "cell_type": "code",
   "execution_count": 8,
   "metadata": {
    "execution": {
     "iopub.execute_input": "2022-04-29T13:55:20.826354Z",
     "iopub.status.busy": "2022-04-29T13:55:20.825750Z",
     "iopub.status.idle": "2022-04-29T13:55:23.686670Z",
     "shell.execute_reply": "2022-04-29T13:55:23.685976Z"
    },
    "tags": []
   },
   "outputs": [
    {
     "data": {
      "text/plain": [
       "Response(jsonrpc='2.0', id='1', result=InsertResponse(signalsByInput={'blomsterbyen_barnehage_anomaly_enum': InsertSummary(id='c9ljovsplln469u58p50', created=False), 'blomsterbyen_barnehage_anomaly_overlay': InsertSummary(id='c9ljovsplln469u58p5g', created=False)}), error=None)"
      ]
     },
     "execution_count": 8,
     "metadata": {},
     "output_type": "execute_result"
    }
   ],
   "source": [
    "building_name_underscore = building_name.lower().replace(' ', '_')\n",
    "enum_id = f'{building_name_underscore}_anomaly_enum'\n",
    "enum_name = f'{building_name} anomaly enum'\n",
    "enum_metadata = SignalInfo(name=enum_name, description='', type='enum', enumValues={0: ' ', 1: 'anomaly'}, labels={\"building\": [building_name]})\n",
    "\n",
    "overlay_id = f'{building_name_underscore}_anomaly_overlay'\n",
    "overlay_name = f'{building_name} anomaly overlay'\n",
    "overlay_metadata = SignalInfo(name=overlay_name, description='', labels={\"building\": [building_name]}, gapDetection=\"PT1H\", engUnit=\"kWh\")\n",
    "\n",
    "resp = clarify_client.save_signals(input_ids=[enum_id, overlay_id], signals=[enum_metadata, overlay_metadata])\n",
    "t = index_list.values.tolist()\n",
    "data = DataFrame(times=t, series={enum_id: enum_list, overlay_id: signal_list})\n",
    "\n",
    "clarify_client.insert(data)"
   ]
  }
 ],
 "metadata": {
  "kernelspec": {
   "display_name": "Python 3",
   "language": "python",
   "name": "orchest-kernel-8845bcfa-6937-4041-b924-3b6437bd77c4"
  },
  "language_info": {
   "codemirror_mode": {
    "name": "ipython",
    "version": 3
   },
   "file_extension": ".py",
   "mimetype": "text/x-python",
   "name": "python",
   "nbconvert_exporter": "python",
   "pygments_lexer": "ipython3",
   "version": "3.9.10"
  }
 },
 "nbformat": 4,
 "nbformat_minor": 4
}
