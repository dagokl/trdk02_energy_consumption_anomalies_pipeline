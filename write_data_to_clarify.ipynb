{
 "cells": [
  {
   "cell_type": "code",
   "execution_count": 1,
   "metadata": {},
   "outputs": [],
   "source": [
    "import orchest\n",
    "import numpy as np\n",
    "from pyclarify import *\n",
    "from utils import Anomaly"
   ]
  },
  {
   "cell_type": "code",
   "execution_count": 2,
   "metadata": {},
   "outputs": [],
   "source": [
    "data = orchest.get_inputs()"
   ]
  },
  {
   "cell_type": "code",
   "execution_count": 3,
   "metadata": {},
   "outputs": [],
   "source": [
    "clarify_data = data['clarify_data']\n",
    "energy_consumption_dfs = clarify_data['energy_consumption']\n",
    "\n",
    "anomalies = data['anomalies_from_et']['anomalies_from_ett']"
   ]
  },
  {
   "cell_type": "code",
   "execution_count": 4,
   "metadata": {},
   "outputs": [],
   "source": [
    "clarify_client = ClarifyClient(\"clarify-credentials.json\")"
   ]
  },
  {
   "cell_type": "code",
   "execution_count": 5,
   "metadata": {},
   "outputs": [],
   "source": [
    "building_name = list(energy_consumption_dfs['hourly'])[1]\n",
    "\n",
    "energy_consumption_dfs['hourly'][building_name]\n",
    "\n",
    "start = energy_consumption_dfs['hourly'][building_name].index[0]\n",
    "end = energy_consumption_dfs['hourly'][building_name].index[-1]\n",
    "\n",
    "num_hours = len(energy_consumption_dfs['hourly'][building_name].index)"
   ]
  },
  {
   "cell_type": "code",
   "execution_count": 6,
   "metadata": {},
   "outputs": [
    {
     "name": "stdout",
     "output_type": "stream",
     "text": [
      "62\n",
      "62\n"
     ]
    }
   ],
   "source": [
    "anomalies[building_name].sort(key=lambda x: x.start)\n",
    "\n",
    "# for a in anomalies[building_name]:\n",
    "#     print(f'building: {a.building}    start: {a.start}    end: {a.end}')\n",
    "    \n",
    "print(len(anomalies[building_name]))\n",
    "\n",
    "c = None\n",
    "i = 0\n",
    "while i < len(anomalies[building_name]):\n",
    "    if anomalies[building_name][i].start == c:\n",
    "         anomalies[building_name].pop(i)\n",
    "    else:\n",
    "        c = anomalies[building_name][i].start\n",
    "        i += 1\n",
    "\n",
    "print(len(anomalies[building_name]))"
   ]
  },
  {
   "cell_type": "code",
   "execution_count": 7,
   "metadata": {},
   "outputs": [
    {
     "data": {
      "text/plain": [
       "Timestamp('2019-01-01 00:00:00+0000', tz='UTC')"
      ]
     },
     "execution_count": 7,
     "metadata": {},
     "output_type": "execute_result"
    }
   ],
   "source": [
    "start"
   ]
  },
  {
   "cell_type": "code",
   "execution_count": 8,
   "metadata": {},
   "outputs": [
    {
     "data": {
      "text/plain": [
       "Timestamp('2020-01-01 23:00:00+0000', tz='UTC')"
      ]
     },
     "execution_count": 8,
     "metadata": {},
     "output_type": "execute_result"
    }
   ],
   "source": [
    "end"
   ]
  },
  {
   "cell_type": "code",
   "execution_count": 9,
   "metadata": {},
   "outputs": [
    {
     "name": "stdout",
     "output_type": "stream",
     "text": [
      "[1 1 1 ... 1 1 1]\n",
      "1520\n",
      "7262\n"
     ]
    }
   ],
   "source": [
    "index_list = energy_consumption_dfs['hourly'][building_name].index\n",
    "\n",
    "enum_list = np.zeros(num_hours, dtype=int)\n",
    "\n",
    "for a in anomalies[building_name]:\n",
    "    mask = np.logical_and(a.start <= index_list, index_list <= a.end)\n",
    "    enum_list = enum_list + mask\n",
    "\n",
    "print(enum_list)\n",
    "print(np.count_nonzero(enum_list))\n",
    "print(enum_list.shape[0] - np.count_nonzero(enum_list))"
   ]
  },
  {
   "cell_type": "code",
   "execution_count": 10,
   "metadata": {},
   "outputs": [
    {
     "data": {
      "text/plain": [
       "numpy.int64"
      ]
     },
     "execution_count": 10,
     "metadata": {},
     "output_type": "execute_result"
    }
   ],
   "source": [
    "type(enum_list[0])"
   ]
  },
  {
   "cell_type": "code",
   "execution_count": 12,
   "metadata": {},
   "outputs": [
    {
     "data": {
      "text/plain": [
       "Response(jsonrpc='2.0', id='1', result=InsertResponse(signalsByInput={'test': InsertSummary(id='c97dd9jfgirmqa3oigq0', created=False)}), error=None)"
      ]
     },
     "execution_count": 12,
     "metadata": {},
     "output_type": "execute_result"
    }
   ],
   "source": [
    "input_enum_id = 'test'\n",
    "input_signal_id = 'sh'\n",
    "enum_metadata = SignalInfo(name='testtest', description='noe', type='enum', enumValues={0: ' ', 1: 'anomaly'})\n",
    "\n",
    "resp = clarify_client.save_signals(input_ids=[input_enum_id], signals=[enum_metadata])\n",
    "t = [x.to_pydatetime() for x in index_list]\n",
    "data = DataFrame(times=t, series={input_enum_id: [int(x) for x in enum_list]})\n",
    "\n",
    "clarify_client.insert(data)\n",
    "\n"
   ]
  },
  {
   "cell_type": "code",
   "execution_count": null,
   "metadata": {},
   "outputs": [],
   "source": []
  },
  {
   "cell_type": "code",
   "execution_count": null,
   "metadata": {},
   "outputs": [],
   "source": []
  }
 ],
 "metadata": {
  "kernelspec": {
   "display_name": "Python 3",
   "language": "python",
   "name": "orchest-kernel-8845bcfa-6937-4041-b924-3b6437bd77c4"
  },
  "language_info": {
   "codemirror_mode": {
    "name": "ipython",
    "version": 3
   },
   "file_extension": ".py",
   "mimetype": "text/x-python",
   "name": "python",
   "nbconvert_exporter": "python",
   "pygments_lexer": "ipython3",
   "version": "3.9.10"
  }
 },
 "nbformat": 4,
 "nbformat_minor": 4
}
