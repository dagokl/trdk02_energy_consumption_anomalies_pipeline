{
 "cells": [
  {
   "cell_type": "code",
   "execution_count": 1,
   "metadata": {
    "execution": {
     "iopub.execute_input": "2022-04-28T10:23:35.308015Z",
     "iopub.status.busy": "2022-04-28T10:23:35.307578Z",
     "iopub.status.idle": "2022-04-28T10:23:35.591238Z",
     "shell.execute_reply": "2022-04-28T10:23:35.590501Z"
    }
   },
   "outputs": [],
   "source": [
    "import orchest\n",
    "import numpy as np\n",
    "from pyclarify import *\n",
    "from utils import Anomaly"
   ]
  },
  {
   "cell_type": "code",
   "execution_count": 2,
   "metadata": {
    "execution": {
     "iopub.execute_input": "2022-04-28T10:23:35.605242Z",
     "iopub.status.busy": "2022-04-28T10:23:35.604784Z",
     "iopub.status.idle": "2022-04-28T10:23:36.257958Z",
     "shell.execute_reply": "2022-04-28T10:23:36.257165Z"
    }
   },
   "outputs": [],
   "source": [
    "data = orchest.get_inputs()"
   ]
  },
  {
   "cell_type": "code",
   "execution_count": 3,
   "metadata": {
    "execution": {
     "iopub.execute_input": "2022-04-28T10:23:36.271948Z",
     "iopub.status.busy": "2022-04-28T10:23:36.271478Z",
     "iopub.status.idle": "2022-04-28T10:23:36.275246Z",
     "shell.execute_reply": "2022-04-28T10:23:36.274616Z"
    }
   },
   "outputs": [],
   "source": [
    "clarify_data = data['clarify_data']\n",
    "energy_consumption_dfs = clarify_data['energy_consumption']\n",
    "\n",
    "anomalies = data['anomalies_from_et']['anomalies_from_ett']"
   ]
  },
  {
   "cell_type": "code",
   "execution_count": 4,
   "metadata": {
    "execution": {
     "iopub.execute_input": "2022-04-28T10:23:36.288089Z",
     "iopub.status.busy": "2022-04-28T10:23:36.287630Z",
     "iopub.status.idle": "2022-04-28T10:23:36.291542Z",
     "shell.execute_reply": "2022-04-28T10:23:36.290871Z"
    }
   },
   "outputs": [],
   "source": [
    "clarify_client = ClarifyClient(\"clarify-credentials.json\")"
   ]
  },
  {
   "cell_type": "code",
   "execution_count": 5,
   "metadata": {
    "execution": {
     "iopub.execute_input": "2022-04-28T10:23:36.304573Z",
     "iopub.status.busy": "2022-04-28T10:23:36.304032Z",
     "iopub.status.idle": "2022-04-28T10:23:36.309620Z",
     "shell.execute_reply": "2022-04-28T10:23:36.309016Z"
    }
   },
   "outputs": [],
   "source": [
    "building_name = list(energy_consumption_dfs['hourly'])[1]\n",
    "\n",
    "energy_consumption_dfs['hourly'][building_name]\n",
    "\n",
    "start = energy_consumption_dfs['hourly'][building_name].index[0]\n",
    "end = energy_consumption_dfs['hourly'][building_name].index[-1]"
   ]
  },
  {
   "cell_type": "code",
   "execution_count": 6,
   "metadata": {
    "execution": {
     "iopub.execute_input": "2022-04-28T10:23:36.322498Z",
     "iopub.status.busy": "2022-04-28T10:23:36.321874Z",
     "iopub.status.idle": "2022-04-28T10:23:36.327781Z",
     "shell.execute_reply": "2022-04-28T10:23:36.327263Z"
    }
   },
   "outputs": [
    {
     "name": "stdout",
     "output_type": "stream",
     "text": [
      "64\n",
      "64\n"
     ]
    }
   ],
   "source": [
    "anomalies[building_name].sort(key=lambda x: x.start)\n",
    "\n",
    "# for a in anomalies[building_name]:\n",
    "#     print(f'building: {a.building}    start: {a.start}    end: {a.end}')\n",
    "    \n",
    "print(len(anomalies[building_name]))\n",
    "\n",
    "c = None\n",
    "i = 0\n",
    "while i < len(anomalies[building_name]):\n",
    "    if anomalies[building_name][i].start == c:\n",
    "         anomalies[building_name].pop(i)\n",
    "    else:\n",
    "        c = anomalies[building_name][i].start\n",
    "        i += 1\n",
    "\n",
    "print(len(anomalies[building_name]))"
   ]
  },
  {
   "cell_type": "code",
   "execution_count": 7,
   "metadata": {
    "execution": {
     "iopub.execute_input": "2022-04-28T10:23:36.341667Z",
     "iopub.status.busy": "2022-04-28T10:23:36.341097Z",
     "iopub.status.idle": "2022-04-28T10:23:36.351562Z",
     "shell.execute_reply": "2022-04-28T10:23:36.351017Z"
    }
   },
   "outputs": [
    {
     "data": {
      "text/plain": [
       "Timestamp('2019-01-01 00:00:00+0000', tz='UTC')"
      ]
     },
     "execution_count": 7,
     "metadata": {},
     "output_type": "execute_result"
    }
   ],
   "source": [
    "start"
   ]
  },
  {
   "cell_type": "code",
   "execution_count": 8,
   "metadata": {
    "execution": {
     "iopub.execute_input": "2022-04-28T10:23:36.372786Z",
     "iopub.status.busy": "2022-04-28T10:23:36.372040Z",
     "iopub.status.idle": "2022-04-28T10:23:36.376870Z",
     "shell.execute_reply": "2022-04-28T10:23:36.376302Z"
    }
   },
   "outputs": [
    {
     "data": {
      "text/plain": [
       "Timestamp('2020-01-01 23:00:00+0000', tz='UTC')"
      ]
     },
     "execution_count": 8,
     "metadata": {},
     "output_type": "execute_result"
    }
   ],
   "source": [
    "end"
   ]
  },
  {
   "cell_type": "code",
   "execution_count": 9,
   "metadata": {
    "execution": {
     "iopub.execute_input": "2022-04-28T10:23:36.392211Z",
     "iopub.status.busy": "2022-04-28T10:23:36.391692Z",
     "iopub.status.idle": "2022-04-28T10:23:36.395278Z",
     "shell.execute_reply": "2022-04-28T10:23:36.394589Z"
    }
   },
   "outputs": [],
   "source": [
    "# index_list = energy_consumption_dfs['hourly'][building_name].index\n",
    "\n",
    "# enum_list = np.zeros(num_hours, dtype=int)\n",
    "\n",
    "# for a in anomalies[building_name]:\n",
    "#     mask = np.logical_and(a.start <= index_list, index_list <= a.end)\n",
    "#     enum_list = enum_list + mask\n",
    "\n",
    "# print(enum_list)\n",
    "# print(np.count_nonzero(enum_list))\n",
    "# print(enum_list.shape[0] - np.count_nonzero(enum_list))"
   ]
  },
  {
   "cell_type": "code",
   "execution_count": 10,
   "metadata": {
    "execution": {
     "iopub.execute_input": "2022-04-28T10:23:36.409397Z",
     "iopub.status.busy": "2022-04-28T10:23:36.408771Z",
     "iopub.status.idle": "2022-04-28T10:23:36.417654Z",
     "shell.execute_reply": "2022-04-28T10:23:36.416984Z"
    }
   },
   "outputs": [
    {
     "name": "stdout",
     "output_type": "stream",
     "text": [
      "<class 'pandas.core.indexes.datetimes.DatetimeIndex'>\n",
      "DatetimeIndex(['2019-01-01 00:00:00+00:00', '2019-01-02 00:00:00+00:00',\n",
      "               '2019-01-03 00:00:00+00:00', '2019-01-04 00:00:00+00:00',\n",
      "               '2019-01-05 00:00:00+00:00', '2019-01-06 00:00:00+00:00',\n",
      "               '2019-01-07 00:00:00+00:00', '2019-01-08 00:00:00+00:00',\n",
      "               '2019-01-09 00:00:00+00:00', '2019-01-10 00:00:00+00:00',\n",
      "               ...\n",
      "               '2019-12-23 00:00:00+00:00', '2019-12-24 00:00:00+00:00',\n",
      "               '2019-12-25 00:00:00+00:00', '2019-12-26 00:00:00+00:00',\n",
      "               '2019-12-27 00:00:00+00:00', '2019-12-28 00:00:00+00:00',\n",
      "               '2019-12-29 00:00:00+00:00', '2019-12-30 00:00:00+00:00',\n",
      "               '2019-12-31 00:00:00+00:00', '2020-01-01 00:00:00+00:00'],\n",
      "              dtype='datetime64[ns, UTC]', length=366, freq='D')\n",
      "[1 0 1 1 1 1 1 0 0 1 1 0 0 0 0 0 0 0 0 0 0 0 0 0 0 0 0 0 0 0 0 0 0 0 0 0 0\n",
      " 0 0 0 0 0 0 0 0 0 0 0 1 1 1 0 0 0 1 1 1 0 1 0 0 0 0 0 0 0 0 0 0 0 0 0 0 0\n",
      " 1 0 0 0 0 0 0 0 0 0 0 0 0 0 0 1 0 0 0 0 0 0 0 0 0 0 0 1 1 1 1 0 1 1 1 0 1\n",
      " 0 0 0 0 0 0 0 0 0 1 0 0 0 1 0 0 1 0 0 0 0 0 0 0 0 1 0 0 0 0 0 0 0 1 1 1 0\n",
      " 1 1 0 0 1 0 0 0 0 0 0 0 1 0 0 0 0 0 0 0 0 0 0 0 0 1 0 0 0 1 0 0 1 0 0 0 0\n",
      " 0 0 1 0 0 0 0 0 1 1 1 1 0 0 0 0 0 0 0 0 0 0 0 1 0 0 0 0 0 0 0 0 0 0 0 0 0\n",
      " 0 0 0 0 0 0 0 0 0 0 0 0 0 1 0 0 0 0 0 0 0 0 0 0 0 0 0 0 0 0 0 0 0 0 0 0 0\n",
      " 0 0 0 0 0 0 0 0 0 0 0 0 0 0 0 0 0 0 0 0 0 0 0 1 1 0 0 0 0 0 0 0 0 0 0 0 0\n",
      " 0 1 0 0 0 0 0 0 0 0 0 0 0 0 0 0 0 0 0 0 0 0 0 0 0 0 0 0 0 1 1 0 0 0 0 0 0\n",
      " 0 0 0 0 1 1 0 0 0 0 0 1 1 1 0 1 1 0 0 1 0 0 0 0 1 1 1 0 0 0 1 0 1]\n",
      "64\n",
      "302\n"
     ]
    }
   ],
   "source": [
    "index_list = energy_consumption_dfs['daily'][building_name].index\n",
    "print(type(index_list))\n",
    "print(index_list)\n",
    "\n",
    "enum_list = np.zeros(len(index_list), dtype=int)\n",
    "\n",
    "for a in anomalies[building_name]:\n",
    "    i = index_list.get_loc(a.start)\n",
    "    enum_list[i] = 1\n",
    "\n",
    "print(enum_list)\n",
    "print(np.count_nonzero(enum_list))\n",
    "print(enum_list.shape[0] - np.count_nonzero(enum_list))"
   ]
  },
  {
   "cell_type": "code",
   "execution_count": 11,
   "metadata": {
    "execution": {
     "iopub.execute_input": "2022-04-28T10:23:36.431149Z",
     "iopub.status.busy": "2022-04-28T10:23:36.430612Z",
     "iopub.status.idle": "2022-04-28T10:23:36.433826Z",
     "shell.execute_reply": "2022-04-28T10:23:36.433190Z"
    }
   },
   "outputs": [],
   "source": [
    "# index_list = energy_consumption_dfs['hourly'][building_name].index\n",
    "\n",
    "# enum_list = np.zeros(num_hours, dtype=int)\n",
    "\n",
    "# for a in anomalies[building_name]:\n",
    "#     mask = np.logical_and(a.start <= index_list, index_list <= a.end)\n",
    "#     enum_list = enum_list + mask\n",
    "\n",
    "# print(enum_list)\n",
    "# print(np.count_nonzero(enum_list))\n",
    "# print(enum_list.shape[0] - np.count_nonzero(enum_list))"
   ]
  },
  {
   "cell_type": "code",
   "execution_count": 12,
   "metadata": {
    "execution": {
     "iopub.execute_input": "2022-04-28T10:23:36.447418Z",
     "iopub.status.busy": "2022-04-28T10:23:36.446972Z",
     "iopub.status.idle": "2022-04-28T10:23:36.467451Z",
     "shell.execute_reply": "2022-04-28T10:23:36.466789Z"
    }
   },
   "outputs": [],
   "source": [
    "index_list = energy_consumption_dfs['hourly'][building_name].index\n",
    "\n",
    "enum_list = np.zeros(len(index_list), dtype=int)\n",
    "\n",
    "for a in anomalies[building_name]:\n",
    "    mask = np.logical_and(a.start <= index_list, index_list < a.end)\n",
    "    enum_list = enum_list + mask\n",
    "\n",
    "signal_list = energy_consumption_dfs['hourly'][building_name]['Totalt'].to_list() * enum_list\n",
    "signal_list = [x if x != 0 else None for x in signal_list]\n",
    "\n",
    "enum_list = [int(x) for x in enum_list]\n",
    "\n",
    "t = index_list.values.tolist() #[x.to_pydatetime() for x in index_list]"
   ]
  },
  {
   "cell_type": "code",
   "execution_count": 13,
   "metadata": {
    "execution": {
     "iopub.execute_input": "2022-04-28T10:23:36.480814Z",
     "iopub.status.busy": "2022-04-28T10:23:36.480258Z",
     "iopub.status.idle": "2022-04-28T10:23:38.654016Z",
     "shell.execute_reply": "2022-04-28T10:23:38.653360Z"
    }
   },
   "outputs": [
    {
     "data": {
      "text/plain": [
       "Response(jsonrpc='2.0', id='1', result=InsertResponse(signalsByInput={'blomsterbyen_barnehage_anomaly_enum': InsertSummary(id='c9kkia4plln469u58mcg', created=False), 'blomsterbyen_barnehage_anomaly_overlay': InsertSummary(id='c9knd9kplln469u58mk0', created=False)}), error=None)"
      ]
     },
     "execution_count": 13,
     "metadata": {},
     "output_type": "execute_result"
    }
   ],
   "source": [
    "building_name_underscore = building_name.lower().replace(' ', '_')\n",
    "enum_id = f'{building_name_underscore}_anomaly_enum'\n",
    "enum_name = f'{building_name} anomaly enum'\n",
    "enum_metadata = SignalInfo(name=enum_name, description='', type='enum', enumValues={0: ' ', 1: 'anomaly'}, labels={\"building\": [building_name]})\n",
    "\n",
    "overlay_id = f'{building_name_underscore}_anomaly_overlay'\n",
    "overlay_name = f'{building_name} anomaly overlay'\n",
    "overlay_metadata = SignalInfo(name=overlay_name, description='', labels={\"building\": [building_name]}, gapDetection=\"PT1H\", engUnit=\"kWh\")\n",
    "\n",
    "resp = clarify_client.save_signals(input_ids=[enum_id, overlay_id], signals=[enum_metadata, overlay_metadata])\n",
    "t = index_list.values.tolist() #[x.to_pydatetime() for x in index_list]\n",
    "data = DataFrame(times=t, series={enum_id: enum_list, overlay_id: signal_list})\n",
    "\n",
    "clarify_client.insert(data)"
   ]
  },
  {
   "cell_type": "code",
   "execution_count": 14,
   "metadata": {
    "execution": {
     "iopub.execute_input": "2022-04-28T10:23:38.668316Z",
     "iopub.status.busy": "2022-04-28T10:23:38.667852Z",
     "iopub.status.idle": "2022-04-28T10:23:38.672355Z",
     "shell.execute_reply": "2022-04-28T10:23:38.671825Z"
    }
   },
   "outputs": [
    {
     "name": "stdout",
     "output_type": "stream",
     "text": [
      "DatetimeIndex(['2019-01-01 00:00:00+00:00', '2019-01-01 01:00:00+00:00',\n",
      "               '2019-01-01 02:00:00+00:00', '2019-01-01 03:00:00+00:00',\n",
      "               '2019-01-01 04:00:00+00:00', '2019-01-01 05:00:00+00:00',\n",
      "               '2019-01-01 06:00:00+00:00', '2019-01-01 07:00:00+00:00',\n",
      "               '2019-01-01 08:00:00+00:00', '2019-01-01 09:00:00+00:00',\n",
      "               ...\n",
      "               '2020-01-01 14:00:00+00:00', '2020-01-01 15:00:00+00:00',\n",
      "               '2020-01-01 16:00:00+00:00', '2020-01-01 17:00:00+00:00',\n",
      "               '2020-01-01 18:00:00+00:00', '2020-01-01 19:00:00+00:00',\n",
      "               '2020-01-01 20:00:00+00:00', '2020-01-01 21:00:00+00:00',\n",
      "               '2020-01-01 22:00:00+00:00', '2020-01-01 23:00:00+00:00'],\n",
      "              dtype='datetime64[ns, UTC]', length=8783, freq=None)\n",
      "1546300800000000000\n"
     ]
    }
   ],
   "source": [
    "print(index_list)\n",
    "print(t[0])"
   ]
  },
  {
   "cell_type": "code",
   "execution_count": null,
   "metadata": {},
   "outputs": [],
   "source": []
  },
  {
   "cell_type": "code",
   "execution_count": null,
   "metadata": {},
   "outputs": [],
   "source": []
  }
 ],
 "metadata": {
  "kernelspec": {
   "display_name": "Python 3",
   "language": "python",
   "name": "orchest-kernel-8845bcfa-6937-4041-b924-3b6437bd77c4"
  },
  "language_info": {
   "codemirror_mode": {
    "name": "ipython",
    "version": 3
   },
   "file_extension": ".py",
   "mimetype": "text/x-python",
   "name": "python",
   "nbconvert_exporter": "python",
   "pygments_lexer": "ipython3",
   "version": "3.9.10"
  }
 },
 "nbformat": 4,
 "nbformat_minor": 4
}
