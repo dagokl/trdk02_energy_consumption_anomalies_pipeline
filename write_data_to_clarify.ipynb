{
 "cells": [
  {
   "cell_type": "markdown",
   "metadata": {},
   "source": [
    "# Write anomalies to clarify\n",
    "In this notebook we write back the anomalies we have found to clarify."
   ]
  },
  {
   "cell_type": "code",
   "execution_count": 1,
   "metadata": {
    "execution": {
     "iopub.execute_input": "2022-05-04T22:28:22.380598Z",
     "iopub.status.busy": "2022-05-04T22:28:22.380065Z",
     "iopub.status.idle": "2022-05-04T22:28:22.667469Z",
     "shell.execute_reply": "2022-05-04T22:28:22.666787Z"
    }
   },
   "outputs": [],
   "source": [
    "import orchest\n",
    "import numpy as np\n",
    "from pyclarify import *\n",
    "from utils import Anomaly"
   ]
  },
  {
   "cell_type": "code",
   "execution_count": 2,
   "metadata": {
    "execution": {
     "iopub.execute_input": "2022-05-04T22:28:22.677361Z",
     "iopub.status.busy": "2022-05-04T22:28:22.676900Z",
     "iopub.status.idle": "2022-05-04T22:28:23.388850Z",
     "shell.execute_reply": "2022-05-04T22:28:23.388080Z"
    }
   },
   "outputs": [],
   "source": [
    "data = orchest.get_inputs()\n",
    "\n",
    "clarify_data = data['clarify_data']\n",
    "energy_consumption_dfs = clarify_data['energy_consumption']\n",
    "\n",
    "anomalies = data['filtered_anomalies']['filtered_anomalies']"
   ]
  },
  {
   "cell_type": "code",
   "execution_count": 3,
   "metadata": {
    "execution": {
     "iopub.execute_input": "2022-05-04T22:28:23.400597Z",
     "iopub.status.busy": "2022-05-04T22:28:23.400058Z",
     "iopub.status.idle": "2022-05-04T22:28:23.404036Z",
     "shell.execute_reply": "2022-05-04T22:28:23.403357Z"
    }
   },
   "outputs": [],
   "source": [
    "clarify_client = ClarifyClient(\"clarify-credentials.json\")"
   ]
  },
  {
   "cell_type": "code",
   "execution_count": 4,
   "metadata": {
    "execution": {
     "iopub.execute_input": "2022-05-04T22:28:23.426184Z",
     "iopub.status.busy": "2022-05-04T22:28:23.425983Z",
     "iopub.status.idle": "2022-05-04T22:28:23.438624Z",
     "shell.execute_reply": "2022-05-04T22:28:23.437867Z"
    }
   },
   "outputs": [],
   "source": [
    "def get_dataframe_with_anomalies(building_name):\n",
    "    anomalies[building_name].sort(key=lambda x: x.start)\n",
    "\n",
    "    c = None\n",
    "    i = 0\n",
    "    while i < len(anomalies[building_name]):\n",
    "        if anomalies[building_name][i].start == c:\n",
    "             anomalies[building_name].pop(i)\n",
    "        else:\n",
    "            c = anomalies[building_name][i].start\n",
    "            i += 1\n",
    "    \n",
    "    index_list = energy_consumption_dfs['daily'][building_name].index\n",
    "    enum_list = np.zeros(len(index_list), dtype=int)\n",
    "\n",
    "    for a in anomalies[building_name]:\n",
    "        i = index_list.get_loc(a.start)\n",
    "        enum_list[i] = 1\n",
    "\n",
    "    index_list = energy_consumption_dfs['hourly'][building_name].index\n",
    "\n",
    "    enum_list = np.zeros(len(index_list), dtype=int)\n",
    "\n",
    "    for a in anomalies[building_name]:\n",
    "        mask = np.logical_and(a.start <= index_list, index_list < a.end)\n",
    "        enum_list = enum_list + mask\n",
    "\n",
    "    signal_list = energy_consumption_dfs['hourly'][building_name]['Totalt'].to_list() * enum_list\n",
    "    signal_list = [x if x != 0 else None for x in signal_list]\n",
    "\n",
    "    enum_list = [int(x) for x in enum_list]\n",
    "\n",
    "    t = index_list.values.tolist()\n",
    "    \n",
    "    building_name_underscore = building_name.lower().replace(' ', '_').replace('.', '').replace('(', '').replace(')', '').replace('æ', 'ae').replace('ø', 'o').replace('å', 'aa')\n",
    "    enum_id = f'{building_name_underscore}_anomaly_enum'\n",
    "    if len(enum_id) > 40:\n",
    "        enum_id = enum_id[-40:]\n",
    "    enum_name = f'{building_name} anomaly enum'\n",
    "    enum_metadata = SignalInfo(name=enum_name, description='', type='enum', enumValues={0: ' ', 1: 'anomaly'}, labels={\"building\": [building_name]})\n",
    "\n",
    "    overlay_id = f'{building_name_underscore}_anomaly_overlay'\n",
    "    if len(overlay_id) > 40:\n",
    "        overlay_id = overlay_id[-40:]\n",
    "    overlay_name = f'{building_name} anomaly overlay'\n",
    "    overlay_metadata = SignalInfo(name=overlay_name, description='', labels={\"building\": [building_name]}, gapDetection=\"PT1H\", engUnit=\"kWh\")\n",
    "    \n",
    "    total_consumption_id = f'{building_name_underscore}_total_consumption'\n",
    "    if len(total_consumption_id) > 40:\n",
    "        total_consumption_id = total_consumption_id[-40:]\n",
    "    total_consumption_name = f'{building_name} total consumption'\n",
    "    total_consumption_metadata = SignalInfo(name=total_consumption_name, description='', labels={\"building\": [building_name]}, engUnit=\"kWh\")\n",
    "    \n",
    "    total_consumption_list = energy_consumption_dfs['hourly'][building_name]['Totalt'].to_list()\n",
    "\n",
    "    resp = clarify_client.save_signals(input_ids=[enum_id, overlay_id, total_consumption_id], signals=[enum_metadata, overlay_metadata, total_consumption_metadata])\n",
    "    t = index_list.values.tolist()\n",
    "    data = DataFrame(times=t, series={enum_id: enum_list, overlay_id: signal_list, total_consumption_id: total_consumption_list})\n",
    "    \n",
    "    return data"
   ]
  },
  {
   "cell_type": "code",
   "execution_count": 9,
   "metadata": {
    "execution": {
     "iopub.execute_input": "2022-05-04T22:28:23.485418Z",
     "iopub.status.busy": "2022-05-04T22:28:23.485020Z",
     "iopub.status.idle": "2022-05-04T22:34:49.687312Z",
     "shell.execute_reply": "2022-05-04T22:34:49.686633Z"
    },
    "tags": []
   },
   "outputs": [],
   "source": [
    "for building_name in anomalies:\n",
    "    data = get_dataframe_with_anomalies(building_name)\n",
    "    clarify_client.insert(data)"
   ]
  }
 ],
 "metadata": {
  "kernelspec": {
   "display_name": "Python 3",
   "language": "python",
   "name": "orchest-kernel-8845bcfa-6937-4041-b924-3b6437bd77c4"
  },
  "language_info": {
   "codemirror_mode": {
    "name": "ipython",
    "version": 3
   },
   "file_extension": ".py",
   "mimetype": "text/x-python",
   "name": "python",
   "nbconvert_exporter": "python",
   "pygments_lexer": "ipython3",
   "version": "3.9.10"
  }
 },
 "nbformat": 4,
 "nbformat_minor": 4
}
